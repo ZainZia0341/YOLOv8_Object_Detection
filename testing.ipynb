{
 "cells": [
  {
   "cell_type": "code",
   "execution_count": 5,
   "metadata": {},
   "outputs": [
    {
     "ename": "AttributeError",
     "evalue": "partially initialized module 'streamlit' has no attribute 'title' (most likely due to a circular import)",
     "output_type": "error",
     "traceback": [
      "\u001b[1;31m---------------------------------------------------------------------------\u001b[0m",
      "\u001b[1;31mAttributeError\u001b[0m                            Traceback (most recent call last)",
      "Cell \u001b[1;32mIn[5], line 1\u001b[0m\n\u001b[1;32m----> 1\u001b[0m \u001b[38;5;28;01mimport\u001b[39;00m \u001b[38;5;21;01mstreamlit\u001b[39;00m \u001b[38;5;28;01mas\u001b[39;00m \u001b[38;5;21;01mst\u001b[39;00m\n\u001b[0;32m      2\u001b[0m \u001b[38;5;28;01mimport\u001b[39;00m \u001b[38;5;21;01mcv2\u001b[39;00m\n\u001b[0;32m      3\u001b[0m \u001b[38;5;28;01mfrom\u001b[39;00m \u001b[38;5;21;01multralytics\u001b[39;00m \u001b[38;5;28;01mimport\u001b[39;00m YOLO\n",
      "File \u001b[1;32me:\\Projects_working\\Yolov8_object_detection\\streamlit.py:7\u001b[0m\n\u001b[0;32m      4\u001b[0m \u001b[38;5;28;01mfrom\u001b[39;00m \u001b[38;5;21;01mapp\u001b[39;00m \u001b[38;5;28;01mimport\u001b[39;00m run_model, model  \u001b[38;5;66;03m# Import the run_model function and the model\u001b[39;00m\n\u001b[0;32m      6\u001b[0m \u001b[38;5;66;03m# Streamlit app\u001b[39;00m\n\u001b[1;32m----> 7\u001b[0m \u001b[43mst\u001b[49m\u001b[38;5;241;43m.\u001b[39;49m\u001b[43mtitle\u001b[49m(\u001b[38;5;124m\"\u001b[39m\u001b[38;5;124mYOLOv8 Object Detection\u001b[39m\u001b[38;5;124m\"\u001b[39m)\n\u001b[0;32m      8\u001b[0m st\u001b[38;5;241m.\u001b[39mwrite(\u001b[38;5;124m\"\u001b[39m\u001b[38;5;124mUpload an image to detect objects using the YOLOv8 small model.\u001b[39m\u001b[38;5;124m\"\u001b[39m)\n\u001b[0;32m     10\u001b[0m \u001b[38;5;66;03m# File uploader\u001b[39;00m\n",
      "\u001b[1;31mAttributeError\u001b[0m: partially initialized module 'streamlit' has no attribute 'title' (most likely due to a circular import)"
     ]
    }
   ],
   "source": [
    "import streamlit as st\n",
    "import cv2\n",
    "from ultralytics import YOLO\n",
    "from PIL import Image\n",
    "import numpy as np\n",
    "import os\n",
    "import torch"
   ]
  },
  {
   "cell_type": "code",
   "execution_count": null,
   "metadata": {},
   "outputs": [],
   "source": [
    "model = YOLO(\"E:\\\\Projects_working\\\\Yolov8_object_detection\\\\model\\\\yolov8x.pt\")"
   ]
  },
  {
   "cell_type": "code",
   "execution_count": null,
   "metadata": {},
   "outputs": [],
   "source": [
    "# Replace \"yolov8s.pt\" with any of the model names listed above to switch between them\n",
    "# model = YOLO(\"yolov8n.pt\")  # Testing with YOLOv8 Nano\n",
    "# model = YOLO(\"yolov8m.pt\")  # Testing with YOLOv8 Medium\n",
    "# model = YOLO(\"yolov8l.pt\")  # Testing with YOLOv8 Large\n",
    "# model = YOLO(\"yolov8x.pt\")  # Testing with YOLOv8 Extra-Large"
   ]
  },
  {
   "cell_type": "code",
   "execution_count": null,
   "metadata": {},
   "outputs": [],
   "source": [
    "# Streamlit app\n",
    "st.title(\"YOLOv8 Object Detection\")\n",
    "\n",
    "st.write(\"Upload an image to detect objects using YOLOv8 small model.\")"
   ]
  },
  {
   "cell_type": "code",
   "execution_count": null,
   "metadata": {},
   "outputs": [],
   "source": [
    "# File uploader\n",
    "uploaded_file = st.file_uploader(\"Choose an image...\", type=[\"jpg\", \"jpeg\", \"png\"])\n",
    "\n",
    "if uploaded_file is not None:\n",
    "    # Convert the uploaded file to an OpenCV image\n",
    "    image = Image.open(uploaded_file)\n",
    "    image = np.array(image)\n",
    "    \n",
    "    # Run object detection\n",
    "    results = model(image)\n",
    "\n",
    "    # Convert results to annotated image\n",
    "    annotated_image = results.render()[0]\n",
    "\n",
    "    # Display the original and annotated images\n",
    "    st.image(image, caption='Uploaded Image', use_column_width=True)\n",
    "    st.image(annotated_image, caption='Annotated Image', use_column_width=True)\n",
    "\n",
    "    # Print the results (optional)\n",
    "    st.write(\"Detected Objects:\")\n",
    "    for result in results:\n",
    "        for box in result.boxes:\n",
    "            st.write(f\"Class: {model.names[box.cls]} - Confidence: {box.conf:.2f}\")\n"
   ]
  },
  {
   "cell_type": "code",
   "execution_count": null,
   "metadata": {},
   "outputs": [],
   "source": []
  },
  {
   "cell_type": "code",
   "execution_count": null,
   "metadata": {},
   "outputs": [],
   "source": []
  },
  {
   "cell_type": "code",
   "execution_count": null,
   "metadata": {},
   "outputs": [],
   "source": []
  },
  {
   "cell_type": "code",
   "execution_count": null,
   "metadata": {},
   "outputs": [],
   "source": []
  },
  {
   "cell_type": "code",
   "execution_count": null,
   "metadata": {},
   "outputs": [],
   "source": []
  }
 ],
 "metadata": {
  "kernelspec": {
   "display_name": "Python 3",
   "language": "python",
   "name": "python3"
  },
  "language_info": {
   "codemirror_mode": {
    "name": "ipython",
    "version": 3
   },
   "file_extension": ".py",
   "mimetype": "text/x-python",
   "name": "python",
   "nbconvert_exporter": "python",
   "pygments_lexer": "ipython3",
   "version": "3.9.19"
  }
 },
 "nbformat": 4,
 "nbformat_minor": 2
}
